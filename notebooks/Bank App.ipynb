{
 "cells": [
  {
   "cell_type": "code",
   "execution_count": 38,
   "metadata": {},
   "outputs": [
    {
     "name": "stdout",
     "output_type": "stream",
     "text": [
      "The autoreload extension is already loaded. To reload it, use:\n",
      "  %reload_ext autoreload\n"
     ]
    }
   ],
   "source": [
    "%load_ext autoreload\n",
    "%autoreload 2"
   ]
  },
  {
   "cell_type": "code",
   "execution_count": 174,
   "metadata": {},
   "outputs": [],
   "source": [
    "from app import Bank\n",
    "from app import Account\n",
    "from datetime import date"
   ]
  },
  {
   "cell_type": "code",
   "execution_count": 40,
   "metadata": {},
   "outputs": [],
   "source": [
    "bank = Bank('DKB')"
   ]
  },
  {
   "cell_type": "code",
   "execution_count": 41,
   "metadata": {},
   "outputs": [
    {
     "name": "stdout",
     "output_type": "stream",
     "text": [
      "Bank: DKB\n",
      "Accounts: {}\n",
      "Transactions: []\n"
     ]
    }
   ],
   "source": [
    "print(f'Bank: {bank.name}')\n",
    "print(f'Accounts: {bank.accounts}')\n",
    "print(f'Transactions: {bank.transactions}')"
   ]
  },
  {
   "cell_type": "code",
   "execution_count": 42,
   "metadata": {},
   "outputs": [
    {
     "data": {
      "text/plain": [
       "<app.account.Account at 0x11128aac8>"
      ]
     },
     "execution_count": 42,
     "metadata": {},
     "output_type": "execute_result"
    }
   ],
   "source": [
    "bank.open_account(Account(number=1, firstname='hans', lastname='wurst', balance=10000.0))\n",
    "bank.open_account(Account(number=2, firstname='peter', lastname='meier', balance=500.0))\n",
    "bank.open_account(Account(number=3, firstname='claudia', lastname='schiffer', balance=200.0))"
   ]
  },
  {
   "cell_type": "code",
   "execution_count": 43,
   "metadata": {},
   "outputs": [
    {
     "data": {
      "text/plain": [
       "500.0"
      ]
     },
     "execution_count": 43,
     "metadata": {},
     "output_type": "execute_result"
    }
   ],
   "source": [
    "bank.accounts[2].balance"
   ]
  },
  {
   "cell_type": "code",
   "execution_count": 44,
   "metadata": {},
   "outputs": [
    {
     "data": {
      "text/plain": [
       "<app.transaction.Transaction at 0x111278320>"
      ]
     },
     "execution_count": 44,
     "metadata": {},
     "output_type": "execute_result"
    }
   ],
   "source": [
    "bank.add_transaction(sender=bank.accounts[1], recipient=bank.accounts[2], subject='Bücher', amount=50.0)\n",
    "bank.add_transaction(sender=bank.accounts[2], recipient=bank.accounts[1], subject='Zeitungen', amount=20.0)\n",
    "bank.add_transaction(sender=bank.accounts[1], recipient=bank.accounts[3], subject='Möbel', amount=100.0)\n",
    "bank.add_transaction(sender=bank.accounts[3], recipient=bank.accounts[1], subject='Bücher', amount=1.0)\n",
    "bank.add_transaction(sender=bank.accounts[2], recipient=bank.accounts[3], subject='Bücher', amount=2.0)\n",
    "bank.add_transaction(sender=bank.accounts[3], recipient=bank.accounts[2], subject='Bücher', amount=3.0)\n",
    "bank.add_transaction(sender=bank.accounts[3], recipient=bank.accounts[1], subject='Bücher', amount=4.0)"
   ]
  },
  {
   "cell_type": "code",
   "execution_count": 235,
   "metadata": {},
   "outputs": [],
   "source": [
    "list1 = bank._build_transactionlist_for_account(2)"
   ]
  },
  {
   "cell_type": "code",
   "execution_count": 236,
   "metadata": {},
   "outputs": [
    {
     "name": "stdout",
     "output_type": "stream",
     "text": [
      "From 1 to 2: Bücher - 50.0 € 2019-02-08 10:03:17.405214\n",
      "From 2 to 1: Zeitungen - 20.0 € 2019-02-04 10:03:17.405261\n",
      "From 2 to 3: Bücher - 2.0 € 2019-02-08 10:03:17.405393\n",
      "From 3 to 2: Bücher - 3.0 € 2019-02-07 10:03:17.405429\n"
     ]
    }
   ],
   "source": [
    "list1\n",
    "for item in list1:\n",
    "    #print(index, item.amount, item.sender, item.recipient, item.timestamp)\n",
    "    print(item.info(), item.timestamp)"
   ]
  },
  {
   "cell_type": "code",
   "execution_count": 198,
   "metadata": {},
   "outputs": [],
   "source": [
    "dstart = date(2019, 2, 1)\n",
    "dend = date(2019, 2, 5)\n",
    "list2 = bank._filter_transactionlist_for_account_bydates(dstart,dend, list1)"
   ]
  },
  {
   "cell_type": "code",
   "execution_count": 251,
   "metadata": {},
   "outputs": [
    {
     "name": "stdout",
     "output_type": "stream",
     "text": [
      " Konto-Nr: 2\n",
      " DKB\n",
      " Kontostand in EUR am 08.02.2019 10:01                                            500.00\n",
      " 04.02   Zeitungen                           hans wurst                           -20.00\n",
      " 07.02   Bücher                           claudia schiffer                          3.00\n",
      " 08.02   Bücher                              hans wurst                            50.00\n",
      " 08.02   Bücher                           claudia schiffer                         -2.00\n",
      " Kontostand in EUR am 08.02.2019 15:35                                            531.00\n"
     ]
    }
   ],
   "source": [
    "bank.print_bankstatement_all(2)"
   ]
  },
  {
   "cell_type": "code",
   "execution_count": 253,
   "metadata": {},
   "outputs": [
    {
     "name": "stdout",
     "output_type": "stream",
     "text": [
      " Konto-Nr: 3\n",
      " DKB\n",
      " Kontostand in EUR am 01.02.2019 00:00                                            200.00\n",
      " 01.02   Bücher                              hans wurst                            -1.00\n",
      " 02.02   Möbel                               hans wurst                           100.00\n",
      " Kontostand in EUR am 06.02.2019 00:00                                            299.00\n"
     ]
    }
   ],
   "source": [
    "dstart = datetime(2019, 2, 1)\n",
    "dend = datetime(2019, 2, 6)\n",
    "bank.print_bankstatement_time(3, dstart, dend)"
   ]
  },
  {
   "cell_type": "code",
   "execution_count": 226,
   "metadata": {},
   "outputs": [],
   "source": [
    "bank.transactions[5].change_date(7)"
   ]
  },
  {
   "cell_type": "code",
   "execution_count": 221,
   "metadata": {},
   "outputs": [
    {
     "name": "stdout",
     "output_type": "stream",
     "text": [
      "2019-02-10\n"
     ]
    }
   ],
   "source": [
    "print(bank.transactions[5].timestamp.date())"
   ]
  },
  {
   "cell_type": "code",
   "execution_count": 181,
   "metadata": {},
   "outputs": [
    {
     "data": {
      "text/plain": [
       "datetime.date(2019, 2, 2)"
      ]
     },
     "execution_count": 181,
     "metadata": {},
     "output_type": "execute_result"
    }
   ],
   "source": [
    "bank.transactions[3].timestamp.date()"
   ]
  },
  {
   "cell_type": "code",
   "execution_count": 199,
   "metadata": {},
   "outputs": [
    {
     "name": "stdout",
     "output_type": "stream",
     "text": [
      "1\n"
     ]
    }
   ],
   "source": [
    "print(len(list2))"
   ]
  },
  {
   "cell_type": "code",
   "execution_count": 239,
   "metadata": {},
   "outputs": [
    {
     "name": "stdout",
     "output_type": "stream",
     "text": [
      "100.0 1.0 25.714285714285715\n"
     ]
    },
    {
     "data": {
      "text/plain": [
       "{'Max': 100.0, 'Min': 1.0, 'Average': 25.714285714285715}"
      ]
     },
     "execution_count": 239,
     "metadata": {},
     "output_type": "execute_result"
    }
   ],
   "source": [
    "bank.info_min_max_transaction()"
   ]
  },
  {
   "cell_type": "code",
   "execution_count": null,
   "metadata": {},
   "outputs": [],
   "source": []
  }
 ],
 "metadata": {
  "kernelspec": {
   "display_name": "Python 3",
   "language": "python",
   "name": "python3"
  },
  "language_info": {
   "codemirror_mode": {
    "name": "ipython",
    "version": 3
   },
   "file_extension": ".py",
   "mimetype": "text/x-python",
   "name": "python",
   "nbconvert_exporter": "python",
   "pygments_lexer": "ipython3",
   "version": "3.6.8"
  }
 },
 "nbformat": 4,
 "nbformat_minor": 2
}
